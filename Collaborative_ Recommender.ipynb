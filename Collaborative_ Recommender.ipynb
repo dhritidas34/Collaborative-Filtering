{
 "cells": [
  {
   "cell_type": "code",
   "execution_count": null,
   "metadata": {
    "collapsed": true
   },
   "outputs": [],
   "source": [
    "#when running in linux\n",
    "#import findspark\n",
    "#findspark.init('/home/pra/spark-2.4.3-bin-hadoop2.7')"
   ]
  },
  {
   "cell_type": "code",
   "execution_count": 61,
   "metadata": {
    "collapsed": true
   },
   "outputs": [],
   "source": [
    "#import required packages\n",
    "from pyspark.sql import SparkSession\n",
    "from pyspark.ml.evaluation import RegressionEvaluator\n",
    "from pyspark.ml.recommendation import ALS\n",
    "from pyspark.sql.types import *\n",
    "from pyspark.ml.feature import StringIndexer\n",
    "from pyspark.sql import functions as F\n",
    "from pyspark.sql.functions import log"
   ]
  },
  {
   "cell_type": "code",
   "execution_count": 62,
   "metadata": {
    "collapsed": true
   },
   "outputs": [],
   "source": [
    "spark = SparkSession.builder.appName('recommendation').getOrCreate()"
   ]
  },
  {
   "cell_type": "code",
   "execution_count": 66,
   "metadata": {},
   "outputs": [
    {
     "data": {
      "text/plain": [
       "DataFrame[timestamp: int, eventType: string, contentId: bigint, personId: bigint, sessionId: bigint, userAgent: string, userRegion: string, userCountry: string]"
      ]
     },
     "execution_count": 66,
     "metadata": {},
     "output_type": "execute_result"
    }
   ],
   "source": [
    "#Read Data\n",
    "interactions_df = spark.read.csv('users_interactions.csv',header=True, inferSchema=True)\n",
    "#interactions_df.head(10)\n",
    "interactions_df"
   ]
  },
  {
   "cell_type": "code",
   "execution_count": 73,
   "metadata": {
    "collapsed": true
   },
   "outputs": [],
   "source": [
    "#As ALS model requires userCol and itemCol in int format we change personId and ContentId from long int to int using string indexer\n",
    "indexer = StringIndexer(inputCol=\"personId\", outputCol=\"personId1\")\n",
    "indexed1 = indexer.fit(interactions_df).transform(interactions_df) \n",
    "indexer = StringIndexer(inputCol=\"contentId\", outputCol=\"contentId1\")\n",
    "indexed1 = indexer.fit(indexed1).transform(indexed1) "
   ]
  },
  {
   "cell_type": "code",
   "execution_count": 21,
   "metadata": {
    "collapsed": true
   },
   "outputs": [],
   "source": [
    "indexer = StringIndexer(inputCol=\"eventType\", outputCol=\"eventStrength\")\n",
    "indexed1 = indexer.fit(indexed1).transform(indexed1) \n",
    "indexed1 = indexed1.withColumn('eventStrength1',indexed1['eventStrength']+1)\n",
    "indexed1 = indexed1.select(['eventType','personId1','contentId1','eventStrength1'])\n",
    "#indexed1.select(['eventType','eventStrength1']).distinct().show()"
   ]
  },
  {
   "cell_type": "code",
   "execution_count": 22,
   "metadata": {},
   "outputs": [
    {
     "name": "stdout",
     "output_type": "stream",
     "text": [
      "+---------------+--------------+\n",
      "|      eventType|eventStrength1|\n",
      "+---------------+--------------+\n",
      "|         FOLLOW|           5.0|\n",
      "|           VIEW|           1.5|\n",
      "|COMMENT CREATED|           4.0|\n",
      "|       BOOKMARK|           3.0|\n",
      "|           LIKE|           2.0|\n",
      "+---------------+--------------+\n",
      "\n"
     ]
    }
   ],
   "source": [
    "indexed1 = indexed1.withColumn('eventStrength1',\n",
    "    F.when(indexed1['eventStrength1']==1,1.5).\n",
    "    otherwise(indexed1['eventStrength1']))\n",
    "indexed1.select(['eventType','eventStrength1']).distinct().show()"
   ]
  },
  {
   "cell_type": "code",
   "execution_count": 23,
   "metadata": {},
   "outputs": [
    {
     "name": "stdout",
     "output_type": "stream",
     "text": [
      "+---------+----------+------------------+\n",
      "|personId1|contentId1|     eventStrength|\n",
      "+---------+----------+------------------+\n",
      "|   1194.0|     104.0|0.4054651081081644|\n",
      "|   1563.0|    1078.0|0.4054651081081644|\n",
      "|    275.0|    1349.0|0.4054651081081644|\n",
      "|    149.0|     187.0|0.4054651081081644|\n",
      "|     86.0|      87.0|0.4054651081081644|\n",
      "|     44.0|     101.0|0.4054651081081644|\n",
      "|    112.0|     657.0| 2.772588722239781|\n",
      "|     40.0|     654.0|2.1972245773362196|\n",
      "|      6.0|     465.0|2.1972245773362196|\n",
      "|    290.0|    2518.0|0.4054651081081644|\n",
      "|     74.0|     834.0|0.4054651081081644|\n",
      "|      4.0|     922.0| 1.791759469228055|\n",
      "|    961.0|    1358.0|1.0986122886681098|\n",
      "|    216.0|     265.0|2.0794415416798357|\n",
      "|     16.0|    1784.0|0.4054651081081644|\n",
      "|    111.0|    1852.0|0.4054651081081644|\n",
      "|    526.0|      37.0|1.0986122886681098|\n",
      "|     61.0|     554.0|0.4054651081081644|\n",
      "|      1.0|     437.0|1.0986122886681098|\n",
      "|     98.0|    1015.0|0.6931471805599453|\n",
      "+---------+----------+------------------+\n",
      "only showing top 20 rows\n",
      "\n"
     ]
    }
   ],
   "source": [
    "temp = indexed1.select(['personId1','contentId1','eventStrength1']).groupby(['personId1','contentId1']).sum()\n",
    "temp = temp.select(['personId1','contentId1','sum(eventStrength1)'])\n",
    "temp = temp.withColumn(\"eventStrength\", log(\"sum(eventStrength1)\"))\n",
    "temp = temp.select(['personId1','contentId1','eventStrength'])\n",
    "temp.show()"
   ]
  },
  {
   "cell_type": "code",
   "execution_count": 24,
   "metadata": {
    "collapsed": true
   },
   "outputs": [],
   "source": [
    "(training, test) = temp.randomSplit([0.8, 0.2])"
   ]
  },
  {
   "cell_type": "code",
   "execution_count": 80,
   "metadata": {
    "collapsed": true
   },
   "outputs": [],
   "source": [
    "maxIter=10\n",
    "reg=0.2\n",
    "rank = 14\n",
    "als = ALS(coldStartStrategy=\"drop\",userCol=\"personId1\", itemCol=\"contentId1\", ratingCol='eventStrength').setMaxIter(maxIter).setRank(rank).setRegParam(reg)"
   ]
  },
  {
   "cell_type": "markdown",
   "metadata": {},
   "source": [
    "rank = Number of latent factors\n",
    "In production, for new users or items that have no rating history and on which the model has not been trained (this is the “cold start problem”).\n",
    "currently the supported cold start strategies are “nan” and “drop”. Further strategies may be supported in future."
   ]
  },
  {
   "cell_type": "code",
   "execution_count": 81,
   "metadata": {
    "collapsed": true
   },
   "outputs": [],
   "source": [
    "model = als.fit(training)"
   ]
  },
  {
   "cell_type": "code",
   "execution_count": 82,
   "metadata": {},
   "outputs": [
    {
     "name": "stdout",
     "output_type": "stream",
     "text": [
      "+---------+----------+------------------+----------+\n",
      "|personId1|contentId1|     eventStrength|prediction|\n",
      "+---------+----------+------------------+----------+\n",
      "|     28.0|     148.0|0.4054651081081644|0.60210997|\n",
      "|    235.0|     148.0|1.0986122886681098|  0.554196|\n",
      "|      4.0|     148.0|0.4054651081081644| 0.6798901|\n",
      "|     51.0|     148.0|0.4054651081081644| 0.7906908|\n",
      "|    404.0|     148.0|1.5040773967762742| 1.0197791|\n",
      "|     45.0|     148.0|0.4054651081081644|0.63822436|\n",
      "|    167.0|     148.0| 1.252762968495368|0.61203074|\n",
      "|     70.0|     148.0|0.4054651081081644| 0.5861717|\n",
      "|    492.0|     148.0|0.4054651081081644|0.67537326|\n",
      "|    466.0|     148.0|0.4054651081081644| 0.4815166|\n",
      "|    124.0|     148.0|0.4054651081081644|0.89902216|\n",
      "|    144.0|     148.0|0.4054651081081644|0.55490786|\n",
      "|    934.0|     148.0|0.4054651081081644|  0.388651|\n",
      "|   1088.0|     463.0|0.4054651081081644|0.48600632|\n",
      "|     48.0|     463.0|0.6931471805599453| 0.7216538|\n",
      "|      7.0|     463.0|1.0986122886681098| 0.6387819|\n",
      "|     70.0|     463.0|0.4054651081081644|0.55713296|\n",
      "|     11.0|     463.0|0.4054651081081644| 0.8170129|\n",
      "|    224.0|     471.0|0.4054651081081644|0.59738517|\n",
      "|     86.0|     471.0|1.8718021769015913|0.46282348|\n",
      "+---------+----------+------------------+----------+\n",
      "only showing top 20 rows\n",
      "\n"
     ]
    }
   ],
   "source": [
    "#make predictions\n",
    "predictions = model.transform(test)\n",
    "predictions.show()"
   ]
  },
  {
   "cell_type": "code",
   "execution_count": 83,
   "metadata": {},
   "outputs": [
    {
     "name": "stdout",
     "output_type": "stream",
     "text": [
      "Root-mean-square error = 0.6097846749909398\n"
     ]
    }
   ],
   "source": [
    "#Performance\n",
    "evaluator = RegressionEvaluator(metricName=\"rmse\", labelCol=\"eventStrength\",predictionCol=\"prediction\")\n",
    "rmse = evaluator.evaluate(predictions)\n",
    "print(\"Root-mean-square error = \" + str(rmse))"
   ]
  },
  {
   "cell_type": "code",
   "execution_count": 78,
   "metadata": {},
   "outputs": [
    {
     "name": "stdout",
     "output_type": "stream",
     "text": [
      "+---------+--------------------------------------------------------------------------------------------------------------------------------------------------------------------------------------------------+\n",
      "|personId1|recommendations                                                                                                                                                                                   |\n",
      "+---------+--------------------------------------------------------------------------------------------------------------------------------------------------------------------------------------------------+\n",
      "|1580     |[[2646, 0.91587985], [2192, 0.89254314], [1004, 0.8718075], [131, 0.841737], [2240, 0.8103155], [1054, 0.78674114], [118, 0.7807522], [272, 0.7754787], [2368, 0.76627755], [2355, 0.7300656]]    |\n",
      "|471      |[[2646, 1.8002559], [2192, 1.7940531], [131, 1.767715], [1004, 1.6687618], [2240, 1.5719346], [2368, 1.5493898], [1054, 1.5293586], [118, 1.4769846], [272, 1.4561857], [2355, 1.4247625]]        |\n",
      "|1342     |[[2646, 2.291403], [2192, 2.2595797], [1004, 2.152978], [131, 2.059072], [1054, 2.0480175], [2240, 2.006718], [2355, 1.9458966], [2368, 1.934051], [272, 1.8739159], [118, 1.8195263]]            |\n",
      "|496      |[[2646, 2.7250962], [2192, 2.6650805], [1004, 2.5241876], [131, 2.5058725], [2240, 2.3348875], [2368, 2.2970464], [1054, 2.2116697], [118, 2.1998396], [1504, 2.1532016], [1279, 2.099466]]       |\n",
      "|148      |[[2646, 1.5492588], [2192, 1.5142604], [1004, 1.4638587], [1054, 1.4412413], [2240, 1.3594817], [131, 1.3465409], [2355, 1.3291845], [2368, 1.2659936], [272, 1.2362921], [118, 1.2061429]]       |\n",
      "|1088     |[[2646, 1.7678087], [1004, 1.6879762], [2192, 1.6782168], [131, 1.6016632], [2240, 1.5469875], [1054, 1.5232316], [272, 1.4766153], [2355, 1.4591261], [2368, 1.4352921], [118, 1.3871489]]       |\n",
      "|540      |[[2646, 1.870928], [1004, 1.7772906], [2192, 1.7709956], [1054, 1.6440774], [2240, 1.6165192], [131, 1.6133149], [2355, 1.5411988], [272, 1.5170873], [157, 1.4908851], [2368, 1.4859978]]        |\n",
      "|392      |[[2192, 1.9813833], [2646, 1.9440684], [131, 1.9432951], [1004, 1.7953517], [2240, 1.7349656], [1054, 1.7155501], [2368, 1.6964716], [2355, 1.5572168], [2465, 1.5358168], [1279, 1.5347455]]     |\n",
      "|243      |[[131, 2.1475205], [2192, 2.0824423], [2646, 2.0727699], [1531, 2.0581722], [1004, 2.0222723], [1054, 1.9995774], [2240, 1.9897118], [272, 1.955751], [118, 1.8497057], [2355, 1.7744861]]        |\n",
      "|623      |[[2192, 3.3856978], [2646, 3.3552158], [131, 3.1248722], [1004, 3.05685], [2368, 2.9532588], [2240, 2.911161], [1054, 2.875645], [1279, 2.6755505], [2355, 2.6516979], [60, 2.640667]]            |\n",
      "|1084     |[[2646, 1.7445047], [2192, 1.6916714], [1004, 1.6429185], [131, 1.5636817], [1054, 1.5265152], [2240, 1.5155641], [2368, 1.4403858], [2355, 1.4263407], [272, 1.413925], [118, 1.4057201]]        |\n",
      "|1025     |[[131, 1.6465709], [2192, 1.6428545], [2646, 1.6138453], [1054, 1.5280939], [1004, 1.511337], [2240, 1.4952948], [2368, 1.3639523], [2355, 1.3598713], [272, 1.3578836], [118, 1.3276877]]        |\n",
      "|1395     |[[2646, 1.6956918], [1004, 1.6385442], [2192, 1.5827467], [1054, 1.4811687], [272, 1.4718653], [2240, 1.4517682], [118, 1.442376], [2355, 1.4342519], [2368, 1.4114861], [131, 1.3978269]]        |\n",
      "|737      |[[2646, 2.1614702], [2192, 2.1273425], [1004, 2.0335932], [131, 2.0007777], [2240, 1.8872426], [1054, 1.8518573], [2368, 1.8257087], [272, 1.7571918], [118, 1.74348], [2355, 1.7335937]]         |\n",
      "|897      |[[2646, 2.4297993], [2192, 2.3189008], [1004, 2.2359347], [131, 2.166461], [118, 2.063094], [2368, 2.0240707], [2240, 2.0216603], [713, 1.9229705], [1930, 1.910416], [1504, 1.9036756]]          |\n",
      "|1127     |[[2646, 0.9738284], [2192, 0.96719724], [131, 0.92956614], [1004, 0.9118894], [2240, 0.86112946], [1054, 0.8540202], [2368, 0.8173651], [272, 0.7961888], [118, 0.79400384], [2355, 0.7924145]]   |\n",
      "|1507     |[[2192, 0.8027148], [2646, 0.8017166], [131, 0.76640254], [1004, 0.7506617], [1054, 0.7425643], [2240, 0.72157294], [2355, 0.6870486], [784, 0.6685022], [272, 0.6552788], [2368, 0.62608314]]    |\n",
      "|858      |[[2646, 3.925002], [2192, 3.863683], [131, 3.838211], [1004, 3.6862612], [1054, 3.6220777], [2240, 3.4805481], [2355, 3.3465958], [272, 3.295093], [118, 3.2767491], [2368, 3.2745528]]           |\n",
      "|31       |[[2192, 2.3376846], [2646, 2.245851], [131, 2.1822286], [1004, 2.0536876], [2368, 2.0071054], [2240, 1.9810286], [1054, 1.971689], [1504, 1.912635], [2355, 1.8213679], [60, 1.7686944]]          |\n",
      "|1352     |[[2646, 0.7262432], [2192, 0.71723485], [131, 0.6837137], [1004, 0.6739063], [2240, 0.63183236], [2368, 0.62762153], [1054, 0.60733443], [1279, 0.57690513], [272, 0.5680015], [2355, 0.56792235]]|\n",
      "+---------+--------------------------------------------------------------------------------------------------------------------------------------------------------------------------------------------------+\n",
      "only showing top 20 rows\n",
      "\n"
     ]
    }
   ],
   "source": [
    "model.recommendForUserSubset(test,10).show(truncate=False)"
   ]
  },
  {
   "cell_type": "code",
   "execution_count": 39,
   "metadata": {
    "collapsed": true
   },
   "outputs": [],
   "source": [
    "from pyspark.ml.tuning import CrossValidator, ParamGridBuilder\n",
    "paramGrid = ParamGridBuilder() \\\n",
    "    .addGrid(als.regParam, [0.2,0.3]) \\\n",
    "    .addGrid(als.rank, [18,20]) \\\n",
    "    .build()\n",
    "crossval = CrossValidator(estimator=als,\n",
    "                          estimatorParamMaps=paramGrid,\n",
    "                          evaluator=RegressionEvaluator(),\n",
    "                          numFolds=2)"
   ]
  },
  {
   "cell_type": "code",
   "execution_count": 47,
   "metadata": {
    "collapsed": true
   },
   "outputs": [],
   "source": [
    "training = training.withColumn(\"label\",training['eventStrength']*1)\n"
   ]
  },
  {
   "cell_type": "code",
   "execution_count": 48,
   "metadata": {
    "collapsed": true
   },
   "outputs": [],
   "source": [
    "cvModel = crossval.fit(training)"
   ]
  },
  {
   "cell_type": "code",
   "execution_count": 54,
   "metadata": {
    "collapsed": true
   },
   "outputs": [],
   "source": [
    "prediction = cvModel.transform(test)"
   ]
  },
  {
   "cell_type": "code",
   "execution_count": 60,
   "metadata": {},
   "outputs": [
    {
     "data": {
      "text/plain": [
       "[0.6345230491163932,\n",
       " 0.6343878187343432,\n",
       " 0.6524047958498627,\n",
       " 0.6523966634643439]"
      ]
     },
     "execution_count": 60,
     "metadata": {},
     "output_type": "execute_result"
    }
   ],
   "source": [
    "cvModel.avgMetrics"
   ]
  },
  {
   "cell_type": "code",
   "execution_count": null,
   "metadata": {
    "collapsed": true
   },
   "outputs": [],
   "source": [
    "52 48 3 0.03 "
   ]
  }
 ],
 "metadata": {
  "kernelspec": {
   "display_name": "Python 3",
   "language": "python",
   "name": "python3"
  },
  "language_info": {
   "codemirror_mode": {
    "name": "ipython",
    "version": 3
   },
   "file_extension": ".py",
   "mimetype": "text/x-python",
   "name": "python",
   "nbconvert_exporter": "python",
   "pygments_lexer": "ipython3",
   "version": "3.6.3"
  }
 },
 "nbformat": 4,
 "nbformat_minor": 2
}
